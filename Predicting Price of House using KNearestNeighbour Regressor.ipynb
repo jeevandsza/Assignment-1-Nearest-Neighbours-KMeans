{
 "cells": [
  {
   "cell_type": "code",
   "execution_count": 9,
   "id": "governmental-container",
   "metadata": {},
   "outputs": [],
   "source": [
    "import pandas as pd\n",
    "import numpy as np\n",
    "import sklearn"
   ]
  },
  {
   "cell_type": "code",
   "execution_count": 15,
   "id": "magnetic-accuracy",
   "metadata": {},
   "outputs": [],
   "source": [
    "house_data = pd.read_csv('https://raw.githubusercontent.com/edyoda/data-science-complete-tutorial/master/Data/house_rental_data.csv.txt', index_col='Unnamed: 0')\n"
   ]
  },
  {
   "cell_type": "code",
   "execution_count": 16,
   "id": "general-kruger",
   "metadata": {},
   "outputs": [
    {
     "data": {
      "text/html": [
       "<div>\n",
       "<style scoped>\n",
       "    .dataframe tbody tr th:only-of-type {\n",
       "        vertical-align: middle;\n",
       "    }\n",
       "\n",
       "    .dataframe tbody tr th {\n",
       "        vertical-align: top;\n",
       "    }\n",
       "\n",
       "    .dataframe thead th {\n",
       "        text-align: right;\n",
       "    }\n",
       "</style>\n",
       "<table border=\"1\" class=\"dataframe\">\n",
       "  <thead>\n",
       "    <tr style=\"text-align: right;\">\n",
       "      <th></th>\n",
       "      <th>Sqft</th>\n",
       "      <th>Floor</th>\n",
       "      <th>TotalFloor</th>\n",
       "      <th>Bedroom</th>\n",
       "      <th>Living.Room</th>\n",
       "      <th>Bathroom</th>\n",
       "      <th>Price</th>\n",
       "    </tr>\n",
       "  </thead>\n",
       "  <tbody>\n",
       "    <tr>\n",
       "      <th>1</th>\n",
       "      <td>1177.698</td>\n",
       "      <td>2</td>\n",
       "      <td>7</td>\n",
       "      <td>2</td>\n",
       "      <td>2</td>\n",
       "      <td>2</td>\n",
       "      <td>62000</td>\n",
       "    </tr>\n",
       "    <tr>\n",
       "      <th>2</th>\n",
       "      <td>2134.800</td>\n",
       "      <td>5</td>\n",
       "      <td>7</td>\n",
       "      <td>4</td>\n",
       "      <td>2</td>\n",
       "      <td>2</td>\n",
       "      <td>78000</td>\n",
       "    </tr>\n",
       "    <tr>\n",
       "      <th>3</th>\n",
       "      <td>1138.560</td>\n",
       "      <td>5</td>\n",
       "      <td>7</td>\n",
       "      <td>2</td>\n",
       "      <td>2</td>\n",
       "      <td>1</td>\n",
       "      <td>58000</td>\n",
       "    </tr>\n",
       "    <tr>\n",
       "      <th>4</th>\n",
       "      <td>1458.780</td>\n",
       "      <td>2</td>\n",
       "      <td>7</td>\n",
       "      <td>3</td>\n",
       "      <td>2</td>\n",
       "      <td>2</td>\n",
       "      <td>45000</td>\n",
       "    </tr>\n",
       "    <tr>\n",
       "      <th>5</th>\n",
       "      <td>967.776</td>\n",
       "      <td>11</td>\n",
       "      <td>14</td>\n",
       "      <td>3</td>\n",
       "      <td>2</td>\n",
       "      <td>2</td>\n",
       "      <td>45000</td>\n",
       "    </tr>\n",
       "  </tbody>\n",
       "</table>\n",
       "</div>"
      ],
      "text/plain": [
       "       Sqft  Floor  TotalFloor  Bedroom  Living.Room  Bathroom  Price\n",
       "1  1177.698      2           7        2            2         2  62000\n",
       "2  2134.800      5           7        4            2         2  78000\n",
       "3  1138.560      5           7        2            2         1  58000\n",
       "4  1458.780      2           7        3            2         2  45000\n",
       "5   967.776     11          14        3            2         2  45000"
      ]
     },
     "execution_count": 16,
     "metadata": {},
     "output_type": "execute_result"
    }
   ],
   "source": [
    "house_data.head()"
   ]
  },
  {
   "cell_type": "code",
   "execution_count": 17,
   "id": "presidential-child",
   "metadata": {},
   "outputs": [],
   "source": [
    "fetaures_name = house_data.columns\n",
    "target = house_data.Price"
   ]
  },
  {
   "cell_type": "code",
   "execution_count": 18,
   "id": "mechanical-memorial",
   "metadata": {},
   "outputs": [
    {
     "data": {
      "text/plain": [
       "Index(['Sqft', 'Floor', 'TotalFloor', 'Bedroom', 'Living.Room', 'Bathroom',\n",
       "       'Price'],\n",
       "      dtype='object')"
      ]
     },
     "execution_count": 18,
     "metadata": {},
     "output_type": "execute_result"
    }
   ],
   "source": [
    "fetaures_name\n"
   ]
  },
  {
   "cell_type": "code",
   "execution_count": 19,
   "id": "dressed-vinyl",
   "metadata": {},
   "outputs": [],
   "source": [
    "# store the values in dataframe\n",
    "house_data.columns = fetaures_name\n",
    "house_data.Price = target"
   ]
  },
  {
   "cell_type": "code",
   "execution_count": 20,
   "id": "necessary-champion",
   "metadata": {},
   "outputs": [],
   "source": [
    "import seaborn as sns"
   ]
  },
  {
   "cell_type": "code",
   "execution_count": 21,
   "id": "approved-freedom",
   "metadata": {},
   "outputs": [
    {
     "data": {
      "text/plain": [
       "<AxesSubplot:>"
      ]
     },
     "execution_count": 21,
     "metadata": {},
     "output_type": "execute_result"
    },
    {
     "data": {
      "image/png": "[encoded data removed]",
      "text/plain": [
       "<Figure size 432x288 with 2 Axes>"
      ]
     },
     "metadata": {
      "needs_background": "light"
     },
     "output_type": "display_data"
    }
   ],
   "source": [
    "#corr = house_data.heatmap\n",
    "corr = house_data.corr()\n",
    "sns.heatmap(corr, annot = True)"
   ]
  },
  {
   "cell_type": "code",
   "execution_count": 22,
   "id": "three-brunei",
   "metadata": {},
   "outputs": [],
   "source": [
    "# split X and y\n",
    "X = house_data.iloc[:, :-1]\n",
    "y = house_data.iloc[:, -1]"
   ]
  },
  {
   "cell_type": "code",
   "execution_count": 24,
   "id": "accessory-taylor",
   "metadata": {},
   "outputs": [],
   "source": [
    "# split into train and test set\n",
    "from sklearn.model_selection import train_test_split\n",
    "X_train, X_test, y_train, y_test = train_test_split(X,y,test_size = 0.20, random_state = 0)"
   ]
  },
  {
   "cell_type": "code",
   "execution_count": 25,
   "id": "hungarian-slave",
   "metadata": {},
   "outputs": [],
   "source": [
    "from sklearn.preprocessing import StandardScaler\n",
    "sc = StandardScaler()\n",
    "X_train = sc.fit_transform(X_train)\n",
    "X_test = sc.transform(X_test)"
   ]
  },
  {
   "cell_type": "code",
   "execution_count": 26,
   "id": "thirty-forty",
   "metadata": {},
   "outputs": [],
   "source": [
    "# Apply knn\n",
    "from sklearn.neighbors import KNeighborsRegressor\n",
    "nn_model = KNeighborsRegressor(n_neighbors = 2)\n",
    "nn_model.fit(X_train,y_train)\n",
    "y_pred = nn_model.predict(X_test)"
   ]
  },
  {
   "cell_type": "code",
   "execution_count": 27,
   "id": "established-weekend",
   "metadata": {},
   "outputs": [
    {
     "name": "stdout",
     "output_type": "stream",
     "text": [
      "0.8800733083373363\n",
      "0.8149795812739481\n"
     ]
    }
   ],
   "source": [
    "\n",
    "print(nn_model.score(X_train,y_train))\n",
    "print(nn_model.score(X_test, y_test))"
   ]
  },
  {
   "cell_type": "code",
   "execution_count": 28,
   "id": "romance-vacuum",
   "metadata": {},
   "outputs": [],
   "source": [
    "#Better value for k\n",
    "from sklearn.neighbors import KNeighborsRegressor\n",
    "value_k = []\n",
    "\n",
    "for k in range(2, 11):\n",
    "    nn_model = KNeighborsRegressor(n_neighbors = k)\n",
    "    nn_model.fit(X_train, y_train)\n",
    "    y_predict = nn_model.predict(X_test)\n",
    "    value_k.append({k,nn_model.score(X_train,y_train),nn_model.score(X_test, y_test)})"
   ]
  },
  {
   "cell_type": "code",
   "execution_count": 29,
   "id": "published-outreach",
   "metadata": {},
   "outputs": [
    {
     "data": {
      "text/plain": [
       "[{0.8149795812739481, 0.8800733083373363, 2},\n",
       " {0.7798243345672901, 0.816270701771076, 3},\n",
       " {0.788823538081094, 0.7914551133040978, 4},\n",
       " {0.7645199808344749, 0.7701123265984116, 5},\n",
       " {0.7476888762598006, 0.7732990095583596, 6},\n",
       " {0.7306294409487604, 0.7553921811077756, 7},\n",
       " {0.7224462536728, 0.7529144611946696, 8},\n",
       " {0.7092356252440686, 0.7391364008453809, 9},\n",
       " {0.7061413761356188, 0.7347959632017562, 10}]"
      ]
     },
     "execution_count": 29,
     "metadata": {},
     "output_type": "execute_result"
    }
   ],
   "source": [
    "value_k"
   ]
  },
  {
   "cell_type": "code",
   "execution_count": 30,
   "id": "emerging-garden",
   "metadata": {},
   "outputs": [],
   "source": [
    "# Best - 88% for k 2"
   ]
  },
  {
   "cell_type": "code",
   "execution_count": null,
   "id": "dried-consolidation",
   "metadata": {},
   "outputs": [],
   "source": []
  }
 ],
 "metadata": {
  "kernelspec": {
   "display_name": "Python 3",
   "language": "python",
   "name": "python3"
  },
  "language_info": {
   "codemirror_mode": {
    "name": "ipython",
    "version": 3
   },
   "file_extension": ".py",
   "mimetype": "text/x-python",
   "name": "python",
   "nbconvert_exporter": "python",
   "pygments_lexer": "ipython3",
   "version": "3.9.5"
  }
 },
 "nbformat": 4,
 "nbformat_minor": 5
}
